{
 "cells": [
  {
   "cell_type": "code",
   "execution_count": null,
   "metadata": {},
   "outputs": [],
   "source": [
    "from webdriver_manager.chrome import ChromeDriverManager\n",
    "from selenium import webdriver\n",
    "\n",
    "driver = webdriver.Chrome(ChromeDriverManager().install())\n",
    "\n",
    "URL='https://www.google.co.kr'\n",
    "driver.get(url=URL)\n",
    "driver.implicitly_wait(time_to_wait=10)"
   ]
  },
  {
   "cell_type": "code",
   "execution_count": 30,
   "metadata": {},
   "outputs": [],
   "source": [
    "from webdriver_manager.chrome import ChromeDriverManager\n",
    "from selenium import webdriver\n",
    "\n",
    "driver = webdriver.Chrome()\n",
    "URL = \"https://www.google.co.kr\"\n",
    "driver.get(url = URL)\n",
    "driver.implicitly_wait(time_to_wait=10)"
   ]
  },
  {
   "cell_type": "code",
   "execution_count": 32,
   "metadata": {},
   "outputs": [],
   "source": [
    "from selenium.webdriver.common.by import By\n",
    "\n",
    "URL='https://signal.bz/news'\n",
    "driver.get(url=URL)\n",
    "driver.implicitly_wait(time_to_wait=10) \n",
    "\n",
    "#naver_results = driver.find_elements_by_css_selector('#app > div > main > div > section > div > section > section:nth-child(2) > div:nth-child(2) > div > div > div > a > span.rank-text')\n",
    "naver_results = driver.find_elements(By.CSS_SELECTOR, '#app > div > main > div > section > div > section > section:nth-child(2) > div:nth-child(2) > div > div > div > a > span.rank-text')\n",
    "naver_list = []\n",
    "for naver_result in naver_results:\n",
    "    print(naver_result.text)\n",
    "    naver_list.append(naver_result.text)"
   ]
  },
  {
   "cell_type": "markdown",
   "metadata": {},
   "source": [
    "여기부터 시작\n",
    "웹브라우저 열기"
   ]
  },
  {
   "cell_type": "code",
   "execution_count": 36,
   "metadata": {},
   "outputs": [],
   "source": [
    "from webdriver_manager.chrome import ChromeDriverManager\n",
    "from selenium import webdriver\n",
    "\n",
    "driver = webdriver.Chrome() #교재하고 다른 부분\n",
    "\n",
    "URL = \"https://www.google.co.kr/\"\n",
    "driver.get(url=URL)\n",
    "driver.implicitly_wait(time_to_wait=10)"
   ]
  },
  {
   "cell_type": "markdown",
   "metadata": {},
   "source": [
    "시그널 실시간 검색어"
   ]
  },
  {
   "cell_type": "code",
   "execution_count": null,
   "metadata": {},
   "outputs": [],
   "source": [
    "from selenium.webdriver.common.by import By\n",
    "from selenium import webdriver\n",
    "URL = \"https://signal.bz/news\"\n",
    "driver.get(url=URL)\n",
    "driver.implicitly_wait(time_to_wait=10)\n",
    "                                                    #app > div > main > div > section > div > section > section:nth-child(2) > div:nth-child(2) > div > div:nth-child(1)\n",
    "                                                    #app > div > main > div > section > div > section > section:nth-child(2) > div:nth-child(2) > div > div:nth-child(2) > div:nth-child(1) > div\n",
    "                                                    #app > div > main > div > section > div > section > section:nth-child(2) > div:nth-child(2) > div > div:nth-child(1) > div:nth-child(1) > div\n",
    "                                                    #app > div > main > div > section > div > section > section:nth-child(2) > div:nth-child(2) > div > div:nth-child(2) > div:nth-child(1) > div > span.rank-text\n",
    "                                                    #app > div > main > div > section > div > section > section:nth-child(2) > div:nth-child(2) > div > div:nth-child(2) > div:nth-child(1) > div > span.rank-text\n",
    "naver_results = driver.find_elements(By.CSS_SELECTOR, '#app > div > main > div > section > div > section > section:nth-child(2) > div:nth-child(2) > div > div > div > a > span.rank-text')\n",
    "naver_list = []\n",
    "for naver_result in naver_results:\n",
    "    print(naver_result.text)\n",
    "    naver_list.append(naver_result.text)\n",
    "    print(naver_list)"
   ]
  },
  {
   "cell_type": "code",
   "execution_count": 46,
   "metadata": {},
   "outputs": [
    {
     "name": "stdout",
     "output_type": "stream",
     "text": [
      "Error occurred: Message: element not interactable\n",
      "  (Session info: chrome=133.0.6943.142)\n",
      "Stacktrace:\n",
      "\tGetHandleVerifier [0x00B40B43+25139]\n",
      "\t(No symbol) [0x00AD13F4]\n",
      "\t(No symbol) [0x009B0340]\n",
      "\t(No symbol) [0x009F9508]\n",
      "\t(No symbol) [0x009EDF15]\n",
      "\t(No symbol) [0x00A1CFCC]\n",
      "\t(No symbol) [0x009ED9A4]\n",
      "\t(No symbol) [0x00A1D244]\n",
      "\t(No symbol) [0x00A3E778]\n",
      "\t(No symbol) [0x00A1CDC6]\n",
      "\t(No symbol) [0x009EBDE9]\n",
      "\t(No symbol) [0x009ED124]\n",
      "\tGetHandleVerifier [0x00E44373+3185251]\n",
      "\tGetHandleVerifier [0x00E6291A+3309578]\n",
      "\tGetHandleVerifier [0x00E5CF42+3286578]\n",
      "\tGetHandleVerifier [0x00BD7AE0+643536]\n",
      "\t(No symbol) [0x00ADA20D]\n",
      "\t(No symbol) [0x00AD70B8]\n",
      "\t(No symbol) [0x00AD7257]\n",
      "\t(No symbol) [0x00AC9E00]\n",
      "\tBaseThreadInitThunk [0x763B5D49+25]\n",
      "\tRtlInitializeExceptionChain [0x77A8CDEB+107]\n",
      "\tRtlGetAppContainerNamedObjectPath [0x77A8CD71+561]\n",
      "\n",
      "\n",
      "실시간 검색어 리스트:\n",
      "[]\n"
     ]
    }
   ],
   "source": [
    "from selenium import webdriver\n",
    "from selenium.webdriver.common.by import By\n",
    "from selenium.webdriver.chrome.service import Service\n",
    "from webdriver_manager.chrome import ChromeDriverManager\n",
    "from selenium.webdriver.support.ui import WebDriverWait\n",
    "from selenium.webdriver.support import expected_conditions as EC\n",
    "import time\n",
    "\n",
    "# WebDriver 설정\n",
    "driver = webdriver.Chrome(service=Service(ChromeDriverManager().install()))\n",
    "\n",
    "# 네이트 홈페이지 열기\n",
    "URL = 'https://www.nate.com'\n",
    "driver.get(URL)\n",
    "\n",
    "# 페이지 로딩이 완료될 때까지 기다리기\n",
    "time.sleep(3)\n",
    "\n",
    "# 실시간 검색어 링크 클릭\n",
    "try:\n",
    "    # '실시간 검색어' 링크를 찾고 클릭\n",
    "    real_time_search_link = WebDriverWait(driver, 10).until(\n",
    "        EC.presence_of_element_located(\n",
    "            (By.CSS_SELECTOR, 'a[title=\"네이트 인기검색어로 이동\"]')\n",
    "        )\n",
    "    )\n",
    "    real_time_search_link.click()\n",
    "\n",
    "    # 링크 클릭 후 검색어들이 로드될 때까지 기다리기\n",
    "    time.sleep(2)  # 로딩을 위한 시간 (동적으로 로드되기 때문에 기다림)\n",
    "\n",
    "    # 실시간 검색어 요소 찾기\n",
    "    search_terms = WebDriverWait(driver, 10).until(\n",
    "        EC.presence_of_all_elements_located(\n",
    "            (By.CSS_SELECTOR, '#olLiveIssueKeyword > li > a > span.txt_rank')\n",
    "        )\n",
    "    )\n",
    "\n",
    "    nate_list = []\n",
    "    \n",
    "    # 10개의 실시간 검색어 가져오기\n",
    "    for i, search_term in enumerate(search_terms[:10]):  # 10개만 가져오기\n",
    "        nate_list.append(search_term.text)\n",
    "        print(f\"{i+1}. {search_term.text}\")\n",
    "\n",
    "except Exception as e:\n",
    "    print(\"Error occurred:\", e)\n",
    "\n",
    "# nate_list에 저장된 검색어 출력\n",
    "print(\"\\n실시간 검색어 리스트:\")\n",
    "print(nate_list)\n",
    "\n",
    "# 브라우저 종료\n",
    "driver.quit()\n"
   ]
  },
  {
   "cell_type": "code",
   "execution_count": 47,
   "metadata": {},
   "outputs": [
    {
     "name": "stdout",
     "output_type": "stream",
     "text": [
      "Error occurred: Message: \n",
      "\n"
     ]
    }
   ],
   "source": [
    "from selenium import webdriver\n",
    "from selenium.webdriver.common.by import By\n",
    "from selenium.webdriver.chrome.service import Service\n",
    "from webdriver_manager.chrome import ChromeDriverManager\n",
    "from selenium.webdriver.support.ui import WebDriverWait\n",
    "from selenium.webdriver.support import expected_conditions as EC\n",
    "import time\n",
    "\n",
    "# WebDriver 설정\n",
    "driver = webdriver.Chrome(service=Service(ChromeDriverManager().install()))\n",
    "\n",
    "# 네이트 홈페이지 열기\n",
    "URL = 'https://www.nate.com'\n",
    "driver.get(URL)\n",
    "\n",
    "# 페이지 로딩이 완료될 때까지 기다리기\n",
    "time.sleep(3)\n",
    "\n",
    "# 실시간 검색어 1위부터 10위까지 가져오기\n",
    "try:\n",
    "    # 실시간 검색어 항목들을 가져옴 (1위부터 10위까지)\n",
    "    search_terms = WebDriverWait(driver, 10).until(\n",
    "        EC.presence_of_all_elements_located(\n",
    "            (By.CSS_SELECTOR, '#olLiveIssueKeyword > li > a')\n",
    "        )\n",
    "    )\n",
    "    \n",
    "    # 실시간 검색어 1~10위 가져오기\n",
    "    nate_list = []\n",
    "    for i in range(10):  # 1위부터 10위까지\n",
    "        if i < len(search_terms):\n",
    "            nate_list.append(search_terms[i].text)  # 텍스트 저장\n",
    "    \n",
    "    print(\"실시간 검색어 1위부터 10위까지:\")\n",
    "    for idx, term in enumerate(nate_list, 1):\n",
    "        print(f\"{idx}위: {term}\")\n",
    "\n",
    "except Exception as e:\n",
    "    print(\"Error occurred:\", e)\n",
    "\n",
    "# 브라우저 종료\n",
    "driver.quit()\n"
   ]
  },
  {
   "cell_type": "code",
   "execution_count": 48,
   "metadata": {},
   "outputs": [
    {
     "ename": "AttributeError",
     "evalue": "'str' object has no attribute 'capabilities'",
     "output_type": "error",
     "traceback": [
      "\u001b[1;31m---------------------------------------------------------------------------\u001b[0m",
      "\u001b[1;31mAttributeError\u001b[0m                            Traceback (most recent call last)",
      "Cell \u001b[1;32mIn[48], line 8\u001b[0m\n\u001b[0;32m      5\u001b[0m \u001b[38;5;28;01mfrom\u001b[39;00m\u001b[38;5;250m \u001b[39m\u001b[38;5;21;01mselenium\u001b[39;00m\u001b[38;5;21;01m.\u001b[39;00m\u001b[38;5;21;01mwebdriver\u001b[39;00m\u001b[38;5;21;01m.\u001b[39;00m\u001b[38;5;21;01msupport\u001b[39;00m\u001b[38;5;250m \u001b[39m\u001b[38;5;28;01mimport\u001b[39;00m expected_conditions \u001b[38;5;28;01mas\u001b[39;00m EC\n\u001b[0;32m      7\u001b[0m \u001b[38;5;66;03m# 크롬 드라이버 자동 설치 및 실행\u001b[39;00m\n\u001b[1;32m----> 8\u001b[0m driver \u001b[38;5;241m=\u001b[39m \u001b[43mwebdriver\u001b[49m\u001b[38;5;241;43m.\u001b[39;49m\u001b[43mChrome\u001b[49m\u001b[43m(\u001b[49m\u001b[43mChromeDriverManager\u001b[49m\u001b[43m(\u001b[49m\u001b[43m)\u001b[49m\u001b[38;5;241;43m.\u001b[39;49m\u001b[43minstall\u001b[49m\u001b[43m(\u001b[49m\u001b[43m)\u001b[49m\u001b[43m)\u001b[49m\n\u001b[0;32m     10\u001b[0m \u001b[38;5;28;01mtry\u001b[39;00m:\n\u001b[0;32m     11\u001b[0m     URL \u001b[38;5;241m=\u001b[39m \u001b[38;5;124m\"\u001b[39m\u001b[38;5;124mhttps://www.nate.com\u001b[39m\u001b[38;5;124m\"\u001b[39m\n",
      "File \u001b[1;32mc:\\Users\\USER\\AppData\\Local\\Programs\\Python\\Python312\\Lib\\site-packages\\selenium\\webdriver\\chrome\\webdriver.py:45\u001b[0m, in \u001b[0;36mWebDriver.__init__\u001b[1;34m(self, options, service, keep_alive)\u001b[0m\n\u001b[0;32m     42\u001b[0m service \u001b[38;5;241m=\u001b[39m service \u001b[38;5;28;01mif\u001b[39;00m service \u001b[38;5;28;01melse\u001b[39;00m Service()\n\u001b[0;32m     43\u001b[0m options \u001b[38;5;241m=\u001b[39m options \u001b[38;5;28;01mif\u001b[39;00m options \u001b[38;5;28;01melse\u001b[39;00m Options()\n\u001b[1;32m---> 45\u001b[0m \u001b[38;5;28;43msuper\u001b[39;49m\u001b[43m(\u001b[49m\u001b[43m)\u001b[49m\u001b[38;5;241;43m.\u001b[39;49m\u001b[38;5;21;43m__init__\u001b[39;49m\u001b[43m(\u001b[49m\n\u001b[0;32m     46\u001b[0m \u001b[43m    \u001b[49m\u001b[43mbrowser_name\u001b[49m\u001b[38;5;241;43m=\u001b[39;49m\u001b[43mDesiredCapabilities\u001b[49m\u001b[38;5;241;43m.\u001b[39;49m\u001b[43mCHROME\u001b[49m\u001b[43m[\u001b[49m\u001b[38;5;124;43m\"\u001b[39;49m\u001b[38;5;124;43mbrowserName\u001b[39;49m\u001b[38;5;124;43m\"\u001b[39;49m\u001b[43m]\u001b[49m\u001b[43m,\u001b[49m\n\u001b[0;32m     47\u001b[0m \u001b[43m    \u001b[49m\u001b[43mvendor_prefix\u001b[49m\u001b[38;5;241;43m=\u001b[39;49m\u001b[38;5;124;43m\"\u001b[39;49m\u001b[38;5;124;43mgoog\u001b[39;49m\u001b[38;5;124;43m\"\u001b[39;49m\u001b[43m,\u001b[49m\n\u001b[0;32m     48\u001b[0m \u001b[43m    \u001b[49m\u001b[43moptions\u001b[49m\u001b[38;5;241;43m=\u001b[39;49m\u001b[43moptions\u001b[49m\u001b[43m,\u001b[49m\n\u001b[0;32m     49\u001b[0m \u001b[43m    \u001b[49m\u001b[43mservice\u001b[49m\u001b[38;5;241;43m=\u001b[39;49m\u001b[43mservice\u001b[49m\u001b[43m,\u001b[49m\n\u001b[0;32m     50\u001b[0m \u001b[43m    \u001b[49m\u001b[43mkeep_alive\u001b[49m\u001b[38;5;241;43m=\u001b[39;49m\u001b[43mkeep_alive\u001b[49m\u001b[43m,\u001b[49m\n\u001b[0;32m     51\u001b[0m \u001b[43m\u001b[49m\u001b[43m)\u001b[49m\n",
      "File \u001b[1;32mc:\\Users\\USER\\AppData\\Local\\Programs\\Python\\Python312\\Lib\\site-packages\\selenium\\webdriver\\chromium\\webdriver.py:50\u001b[0m, in \u001b[0;36mChromiumDriver.__init__\u001b[1;34m(self, browser_name, vendor_prefix, options, service, keep_alive)\u001b[0m\n\u001b[0;32m     47\u001b[0m \u001b[38;5;28mself\u001b[39m\u001b[38;5;241m.\u001b[39mservice \u001b[38;5;241m=\u001b[39m service\n\u001b[0;32m     49\u001b[0m finder \u001b[38;5;241m=\u001b[39m DriverFinder(\u001b[38;5;28mself\u001b[39m\u001b[38;5;241m.\u001b[39mservice, options)\n\u001b[1;32m---> 50\u001b[0m \u001b[38;5;28;01mif\u001b[39;00m \u001b[43mfinder\u001b[49m\u001b[38;5;241;43m.\u001b[39;49m\u001b[43mget_browser_path\u001b[49m\u001b[43m(\u001b[49m\u001b[43m)\u001b[49m:\n\u001b[0;32m     51\u001b[0m     options\u001b[38;5;241m.\u001b[39mbinary_location \u001b[38;5;241m=\u001b[39m finder\u001b[38;5;241m.\u001b[39mget_browser_path()\n\u001b[0;32m     52\u001b[0m     options\u001b[38;5;241m.\u001b[39mbrowser_version \u001b[38;5;241m=\u001b[39m \u001b[38;5;28;01mNone\u001b[39;00m\n",
      "File \u001b[1;32mc:\\Users\\USER\\AppData\\Local\\Programs\\Python\\Python312\\Lib\\site-packages\\selenium\\webdriver\\common\\driver_finder.py:47\u001b[0m, in \u001b[0;36mDriverFinder.get_browser_path\u001b[1;34m(self)\u001b[0m\n\u001b[0;32m     46\u001b[0m \u001b[38;5;28;01mdef\u001b[39;00m\u001b[38;5;250m \u001b[39m\u001b[38;5;21mget_browser_path\u001b[39m(\u001b[38;5;28mself\u001b[39m) \u001b[38;5;241m-\u001b[39m\u001b[38;5;241m>\u001b[39m \u001b[38;5;28mstr\u001b[39m:\n\u001b[1;32m---> 47\u001b[0m     \u001b[38;5;28;01mreturn\u001b[39;00m \u001b[38;5;28;43mself\u001b[39;49m\u001b[38;5;241;43m.\u001b[39;49m\u001b[43m_binary_paths\u001b[49m\u001b[43m(\u001b[49m\u001b[43m)\u001b[49m[\u001b[38;5;124m\"\u001b[39m\u001b[38;5;124mbrowser_path\u001b[39m\u001b[38;5;124m\"\u001b[39m]\n",
      "File \u001b[1;32mc:\\Users\\USER\\AppData\\Local\\Programs\\Python\\Python312\\Lib\\site-packages\\selenium\\webdriver\\common\\driver_finder.py:56\u001b[0m, in \u001b[0;36mDriverFinder._binary_paths\u001b[1;34m(self)\u001b[0m\n\u001b[0;32m     53\u001b[0m \u001b[38;5;28;01mif\u001b[39;00m \u001b[38;5;28mself\u001b[39m\u001b[38;5;241m.\u001b[39m_paths[\u001b[38;5;124m\"\u001b[39m\u001b[38;5;124mdriver_path\u001b[39m\u001b[38;5;124m\"\u001b[39m]:\n\u001b[0;32m     54\u001b[0m     \u001b[38;5;28;01mreturn\u001b[39;00m \u001b[38;5;28mself\u001b[39m\u001b[38;5;241m.\u001b[39m_paths\n\u001b[1;32m---> 56\u001b[0m browser \u001b[38;5;241m=\u001b[39m \u001b[38;5;28;43mself\u001b[39;49m\u001b[38;5;241;43m.\u001b[39;49m\u001b[43m_options\u001b[49m\u001b[38;5;241;43m.\u001b[39;49m\u001b[43mcapabilities\u001b[49m[\u001b[38;5;124m\"\u001b[39m\u001b[38;5;124mbrowserName\u001b[39m\u001b[38;5;124m\"\u001b[39m]\n\u001b[0;32m     57\u001b[0m \u001b[38;5;28;01mtry\u001b[39;00m:\n\u001b[0;32m     58\u001b[0m     path \u001b[38;5;241m=\u001b[39m \u001b[38;5;28mself\u001b[39m\u001b[38;5;241m.\u001b[39m_service\u001b[38;5;241m.\u001b[39mpath\n",
      "\u001b[1;31mAttributeError\u001b[0m: 'str' object has no attribute 'capabilities'"
     ]
    }
   ],
   "source": [
    "from selenium import webdriver\n",
    "from selenium.webdriver.common.by import By\n",
    "from webdriver_manager.chrome import ChromeDriverManager\n",
    "from selenium.webdriver.support.ui import WebDriverWait\n",
    "from selenium.webdriver.support import expected_conditions as EC\n",
    "\n",
    "# 크롬 드라이버 자동 설치 및 실행\n",
    "driver = webdriver.Chrome(ChromeDriverManager().install())\n",
    "\n",
    "try:\n",
    "    URL = \"https://www.nate.com\"\n",
    "    driver.get(URL)\n",
    "    driver.implicitly_wait(10)  # 대기 시간 설정\n",
    "\n",
    "    # 실시간 검색어 1위 클릭 (최신 문법 적용)\n",
    "    first_keyword = WebDriverWait(driver, 10).until(\n",
    "        EC.element_to_be_clickable((By.CSS_SELECTOR, \"#olLiveIssueKeyword > li:nth-child(1) > a > span.txt_rank\"))\n",
    "    )\n",
    "    first_keyword.click()\n",
    "\n",
    "    # 검색 결과 로드 대기\n",
    "    nate_results = WebDriverWait(driver, 10).until(\n",
    "        EC.presence_of_all_elements_located((By.CSS_SELECTOR, \"#search-option > form:nth-child(1) > fieldset > div.issue-kwd > span > a\"))\n",
    "    )\n",
    "\n",
    "    # 결과 리스트 저장 및 출력\n",
    "    nate_list = [result.text for result in nate_results]\n",
    "    for text in nate_list:\n",
    "        print(text)\n",
    "\n",
    "finally:\n",
    "    driver.quit()  # 브라우저 종료\n"
   ]
  },
  {
   "cell_type": "code",
   "execution_count": 50,
   "metadata": {},
   "outputs": [
    {
     "ename": "TimeoutException",
     "evalue": "Message: \nStacktrace:\n\tGetHandleVerifier [0x00B40B43+25139]\n\t(No symbol) [0x00AD13F4]\n\t(No symbol) [0x009B04E3]\n\t(No symbol) [0x009F83D7]\n\t(No symbol) [0x009F872B]\n\t(No symbol) [0x00A41002]\n\t(No symbol) [0x00A1D014]\n\t(No symbol) [0x00A3E778]\n\t(No symbol) [0x00A1CDC6]\n\t(No symbol) [0x009EBDE9]\n\t(No symbol) [0x009ED124]\n\tGetHandleVerifier [0x00E44373+3185251]\n\tGetHandleVerifier [0x00E6291A+3309578]\n\tGetHandleVerifier [0x00E5CF42+3286578]\n\tGetHandleVerifier [0x00BD7AE0+643536]\n\t(No symbol) [0x00ADA20D]\n\t(No symbol) [0x00AD70B8]\n\t(No symbol) [0x00AD7257]\n\t(No symbol) [0x00AC9E00]\n\tBaseThreadInitThunk [0x763B5D49+25]\n\tRtlInitializeExceptionChain [0x77A8CDEB+107]\n\tRtlGetAppContainerNamedObjectPath [0x77A8CD71+561]\n",
     "output_type": "error",
     "traceback": [
      "\u001b[1;31m---------------------------------------------------------------------------\u001b[0m",
      "\u001b[1;31mTimeoutException\u001b[0m                          Traceback (most recent call last)",
      "Cell \u001b[1;32mIn[50], line 18\u001b[0m\n\u001b[0;32m     15\u001b[0m driver\u001b[38;5;241m.\u001b[39mimplicitly_wait(\u001b[38;5;241m10\u001b[39m)\n\u001b[0;32m     17\u001b[0m \u001b[38;5;66;03m# 실시간 검색어 1위 클릭\u001b[39;00m\n\u001b[1;32m---> 18\u001b[0m first_keyword \u001b[38;5;241m=\u001b[39m \u001b[43mWebDriverWait\u001b[49m\u001b[43m(\u001b[49m\u001b[43mdriver\u001b[49m\u001b[43m,\u001b[49m\u001b[43m \u001b[49m\u001b[38;5;241;43m100\u001b[39;49m\u001b[43m)\u001b[49m\u001b[38;5;241;43m.\u001b[39;49m\u001b[43muntil\u001b[49m\u001b[43m(\u001b[49m\n\u001b[0;32m     19\u001b[0m \u001b[43m    \u001b[49m\u001b[43mEC\u001b[49m\u001b[38;5;241;43m.\u001b[39;49m\u001b[43melement_to_be_clickable\u001b[49m\u001b[43m(\u001b[49m\u001b[43m(\u001b[49m\u001b[43mBy\u001b[49m\u001b[38;5;241;43m.\u001b[39;49m\u001b[43mCSS_SELECTOR\u001b[49m\u001b[43m,\u001b[49m\u001b[43m \u001b[49m\u001b[38;5;124;43m\"\u001b[39;49m\u001b[38;5;124;43m#olLiveIssueKeyword > li:nth-child(1) > a > span.txt_rank\u001b[39;49m\u001b[38;5;124;43m\"\u001b[39;49m\u001b[43m)\u001b[49m\u001b[43m)\u001b[49m\n\u001b[0;32m     20\u001b[0m \u001b[43m\u001b[49m\u001b[43m)\u001b[49m\n\u001b[0;32m     21\u001b[0m first_keyword\u001b[38;5;241m.\u001b[39mclick()\n\u001b[0;32m     23\u001b[0m \u001b[38;5;66;03m# 검색 결과 로드 대기\u001b[39;00m\n",
      "File \u001b[1;32mc:\\Users\\USER\\AppData\\Local\\Programs\\Python\\Python312\\Lib\\site-packages\\selenium\\webdriver\\support\\wait.py:146\u001b[0m, in \u001b[0;36mWebDriverWait.until\u001b[1;34m(self, method, message)\u001b[0m\n\u001b[0;32m    144\u001b[0m         \u001b[38;5;28;01mbreak\u001b[39;00m\n\u001b[0;32m    145\u001b[0m     time\u001b[38;5;241m.\u001b[39msleep(\u001b[38;5;28mself\u001b[39m\u001b[38;5;241m.\u001b[39m_poll)\n\u001b[1;32m--> 146\u001b[0m \u001b[38;5;28;01mraise\u001b[39;00m TimeoutException(message, screen, stacktrace)\n",
      "\u001b[1;31mTimeoutException\u001b[0m: Message: \nStacktrace:\n\tGetHandleVerifier [0x00B40B43+25139]\n\t(No symbol) [0x00AD13F4]\n\t(No symbol) [0x009B04E3]\n\t(No symbol) [0x009F83D7]\n\t(No symbol) [0x009F872B]\n\t(No symbol) [0x00A41002]\n\t(No symbol) [0x00A1D014]\n\t(No symbol) [0x00A3E778]\n\t(No symbol) [0x00A1CDC6]\n\t(No symbol) [0x009EBDE9]\n\t(No symbol) [0x009ED124]\n\tGetHandleVerifier [0x00E44373+3185251]\n\tGetHandleVerifier [0x00E6291A+3309578]\n\tGetHandleVerifier [0x00E5CF42+3286578]\n\tGetHandleVerifier [0x00BD7AE0+643536]\n\t(No symbol) [0x00ADA20D]\n\t(No symbol) [0x00AD70B8]\n\t(No symbol) [0x00AD7257]\n\t(No symbol) [0x00AC9E00]\n\tBaseThreadInitThunk [0x763B5D49+25]\n\tRtlInitializeExceptionChain [0x77A8CDEB+107]\n\tRtlGetAppContainerNamedObjectPath [0x77A8CD71+561]\n"
     ]
    }
   ],
   "source": [
    "from selenium import webdriver\n",
    "from selenium.webdriver.common.by import By\n",
    "from webdriver_manager.chrome import ChromeDriverManager\n",
    "from selenium.webdriver.chrome.service import Service\n",
    "from selenium.webdriver.support.ui import WebDriverWait\n",
    "from selenium.webdriver.support import expected_conditions as EC\n",
    "\n",
    "# Chrome 드라이버 자동 설치 및 실행\n",
    "service = Service(ChromeDriverManager().install())\n",
    "driver = webdriver.Chrome(service=service)\n",
    "\n",
    "try:\n",
    "    URL = \"https://www.nate.com\"\n",
    "    driver.get(URL)\n",
    "    driver.implicitly_wait(10)\n",
    "\n",
    "    # 실시간 검색어 1위 클릭\n",
    "    first_keyword = WebDriverWait(driver, 100).until(\n",
    "        EC.element_to_be_clickable((By.CSS_SELECTOR, \"#olLiveIssueKeyword > li:nth-child(1) > a > span.txt_rank\"))\n",
    "    )\n",
    "    first_keyword.click()\n",
    "\n",
    "    # 검색 결과 로드 대기\n",
    "    nate_results = WebDriverWait(driver, 10).until(\n",
    "        EC.presence_of_all_elements_located((By.CSS_SELECTOR, \"#search-option > form:nth-child(1) > fieldset > div.issue-kwd > span > a\"))\n",
    "    )\n",
    "\n",
    "    # 결과 저장 및 출력\n",
    "    nate_list = [result.text for result in nate_results]\n",
    "    for text in nate_list:\n",
    "        print(text)\n",
    "\n",
    "finally:\n",
    "    driver.quit()  # 브라우저 종료\n"
   ]
  },
  {
   "cell_type": "code",
   "execution_count": 17,
   "metadata": {},
   "outputs": [
    {
     "ename": "InvalidSessionIdException",
     "evalue": "Message: invalid session id: session deleted as the browser has closed the connection\nfrom disconnected: not connected to DevTools\n  (Session info: chrome=133.0.6943.142)\nStacktrace:\n\tGetHandleVerifier [0x00007FF6D6D7C6A5+28789]\n\t(No symbol) [0x00007FF6D6CE5B20]\n\t(No symbol) [0x00007FF6D6B78F9A]\n\t(No symbol) [0x00007FF6D6B64D75]\n\t(No symbol) [0x00007FF6D6B89784]\n\t(No symbol) [0x00007FF6D6BFF0BF]\n\t(No symbol) [0x00007FF6D6C1F0D2]\n\t(No symbol) [0x00007FF6D6BF7103]\n\t(No symbol) [0x00007FF6D6BBFFC0]\n\t(No symbol) [0x00007FF6D6BC1273]\n\tGetHandleVerifier [0x00007FF6D70C1AED+3458237]\n\tGetHandleVerifier [0x00007FF6D70D829C+3550316]\n\tGetHandleVerifier [0x00007FF6D70CDB9D+3507565]\n\tGetHandleVerifier [0x00007FF6D6E42C6A+841274]\n\t(No symbol) [0x00007FF6D6CF09EF]\n\t(No symbol) [0x00007FF6D6CECB34]\n\t(No symbol) [0x00007FF6D6CECCD6]\n\t(No symbol) [0x00007FF6D6CDC119]\n\tBaseThreadInitThunk [0x00007FFFA669E8D7+23]\n\tRtlUserThreadStart [0x00007FFFA757BF2C+44]\n",
     "output_type": "error",
     "traceback": [
      "\u001b[1;31m---------------------------------------------------------------------------\u001b[0m",
      "\u001b[1;31mInvalidSessionIdException\u001b[0m                 Traceback (most recent call last)",
      "Cell \u001b[1;32mIn[17], line 4\u001b[0m\n\u001b[0;32m      1\u001b[0m \u001b[38;5;28;01mimport\u001b[39;00m\u001b[38;5;250m \u001b[39m\u001b[38;5;21;01mtime\u001b[39;00m\n\u001b[0;32m      3\u001b[0m URL\u001b[38;5;241m=\u001b[39m\u001b[38;5;124m'\u001b[39m\u001b[38;5;124mhttps://zum.com\u001b[39m\u001b[38;5;124m'\u001b[39m\n\u001b[1;32m----> 4\u001b[0m \u001b[43mdriver\u001b[49m\u001b[38;5;241;43m.\u001b[39;49m\u001b[43mget\u001b[49m\u001b[43m(\u001b[49m\u001b[43murl\u001b[49m\u001b[38;5;241;43m=\u001b[39;49m\u001b[43mURL\u001b[49m\u001b[43m)\u001b[49m\n\u001b[0;32m      5\u001b[0m driver\u001b[38;5;241m.\u001b[39mimplicitly_wait(time_to_wait\u001b[38;5;241m=\u001b[39m\u001b[38;5;241m10\u001b[39m) \n\u001b[0;32m      7\u001b[0m \u001b[38;5;66;03m#driver.find_element_by_css_selector('#app > div > header > div.search_bar > div > fieldset > div > input[type=text]').send_keys(\"아무거나 검색\")\u001b[39;00m\n",
      "File \u001b[1;32mc:\\Users\\USER\\AppData\\Local\\Programs\\Python\\Python312\\Lib\\site-packages\\selenium\\webdriver\\remote\\webdriver.py:454\u001b[0m, in \u001b[0;36mWebDriver.get\u001b[1;34m(self, url)\u001b[0m\n\u001b[0;32m    436\u001b[0m \u001b[38;5;28;01mdef\u001b[39;00m\u001b[38;5;250m \u001b[39m\u001b[38;5;21mget\u001b[39m(\u001b[38;5;28mself\u001b[39m, url: \u001b[38;5;28mstr\u001b[39m) \u001b[38;5;241m-\u001b[39m\u001b[38;5;241m>\u001b[39m \u001b[38;5;28;01mNone\u001b[39;00m:\n\u001b[0;32m    437\u001b[0m \u001b[38;5;250m    \u001b[39m\u001b[38;5;124;03m\"\"\"Navigate the browser to the specified URL in the current window or\u001b[39;00m\n\u001b[0;32m    438\u001b[0m \u001b[38;5;124;03m    tab.\u001b[39;00m\n\u001b[0;32m    439\u001b[0m \n\u001b[1;32m   (...)\u001b[0m\n\u001b[0;32m    452\u001b[0m \u001b[38;5;124;03m    >>> driver.get(\"https://example.com\")\u001b[39;00m\n\u001b[0;32m    453\u001b[0m \u001b[38;5;124;03m    \"\"\"\u001b[39;00m\n\u001b[1;32m--> 454\u001b[0m     \u001b[38;5;28;43mself\u001b[39;49m\u001b[38;5;241;43m.\u001b[39;49m\u001b[43mexecute\u001b[49m\u001b[43m(\u001b[49m\u001b[43mCommand\u001b[49m\u001b[38;5;241;43m.\u001b[39;49m\u001b[43mGET\u001b[49m\u001b[43m,\u001b[49m\u001b[43m \u001b[49m\u001b[43m{\u001b[49m\u001b[38;5;124;43m\"\u001b[39;49m\u001b[38;5;124;43murl\u001b[39;49m\u001b[38;5;124;43m\"\u001b[39;49m\u001b[43m:\u001b[49m\u001b[43m \u001b[49m\u001b[43murl\u001b[49m\u001b[43m}\u001b[49m\u001b[43m)\u001b[49m\n",
      "File \u001b[1;32mc:\\Users\\USER\\AppData\\Local\\Programs\\Python\\Python312\\Lib\\site-packages\\selenium\\webdriver\\remote\\webdriver.py:429\u001b[0m, in \u001b[0;36mWebDriver.execute\u001b[1;34m(self, driver_command, params)\u001b[0m\n\u001b[0;32m    427\u001b[0m response \u001b[38;5;241m=\u001b[39m \u001b[38;5;28mself\u001b[39m\u001b[38;5;241m.\u001b[39mcommand_executor\u001b[38;5;241m.\u001b[39mexecute(driver_command, params)\n\u001b[0;32m    428\u001b[0m \u001b[38;5;28;01mif\u001b[39;00m response:\n\u001b[1;32m--> 429\u001b[0m     \u001b[38;5;28;43mself\u001b[39;49m\u001b[38;5;241;43m.\u001b[39;49m\u001b[43merror_handler\u001b[49m\u001b[38;5;241;43m.\u001b[39;49m\u001b[43mcheck_response\u001b[49m\u001b[43m(\u001b[49m\u001b[43mresponse\u001b[49m\u001b[43m)\u001b[49m\n\u001b[0;32m    430\u001b[0m     response[\u001b[38;5;124m\"\u001b[39m\u001b[38;5;124mvalue\u001b[39m\u001b[38;5;124m\"\u001b[39m] \u001b[38;5;241m=\u001b[39m \u001b[38;5;28mself\u001b[39m\u001b[38;5;241m.\u001b[39m_unwrap_value(response\u001b[38;5;241m.\u001b[39mget(\u001b[38;5;124m\"\u001b[39m\u001b[38;5;124mvalue\u001b[39m\u001b[38;5;124m\"\u001b[39m, \u001b[38;5;28;01mNone\u001b[39;00m))\n\u001b[0;32m    431\u001b[0m     \u001b[38;5;28;01mreturn\u001b[39;00m response\n",
      "File \u001b[1;32mc:\\Users\\USER\\AppData\\Local\\Programs\\Python\\Python312\\Lib\\site-packages\\selenium\\webdriver\\remote\\errorhandler.py:232\u001b[0m, in \u001b[0;36mErrorHandler.check_response\u001b[1;34m(self, response)\u001b[0m\n\u001b[0;32m    230\u001b[0m         alert_text \u001b[38;5;241m=\u001b[39m value[\u001b[38;5;124m\"\u001b[39m\u001b[38;5;124malert\u001b[39m\u001b[38;5;124m\"\u001b[39m]\u001b[38;5;241m.\u001b[39mget(\u001b[38;5;124m\"\u001b[39m\u001b[38;5;124mtext\u001b[39m\u001b[38;5;124m\"\u001b[39m)\n\u001b[0;32m    231\u001b[0m     \u001b[38;5;28;01mraise\u001b[39;00m exception_class(message, screen, stacktrace, alert_text)  \u001b[38;5;66;03m# type: ignore[call-arg]  # mypy is not smart enough here\u001b[39;00m\n\u001b[1;32m--> 232\u001b[0m \u001b[38;5;28;01mraise\u001b[39;00m exception_class(message, screen, stacktrace)\n",
      "\u001b[1;31mInvalidSessionIdException\u001b[0m: Message: invalid session id: session deleted as the browser has closed the connection\nfrom disconnected: not connected to DevTools\n  (Session info: chrome=133.0.6943.142)\nStacktrace:\n\tGetHandleVerifier [0x00007FF6D6D7C6A5+28789]\n\t(No symbol) [0x00007FF6D6CE5B20]\n\t(No symbol) [0x00007FF6D6B78F9A]\n\t(No symbol) [0x00007FF6D6B64D75]\n\t(No symbol) [0x00007FF6D6B89784]\n\t(No symbol) [0x00007FF6D6BFF0BF]\n\t(No symbol) [0x00007FF6D6C1F0D2]\n\t(No symbol) [0x00007FF6D6BF7103]\n\t(No symbol) [0x00007FF6D6BBFFC0]\n\t(No symbol) [0x00007FF6D6BC1273]\n\tGetHandleVerifier [0x00007FF6D70C1AED+3458237]\n\tGetHandleVerifier [0x00007FF6D70D829C+3550316]\n\tGetHandleVerifier [0x00007FF6D70CDB9D+3507565]\n\tGetHandleVerifier [0x00007FF6D6E42C6A+841274]\n\t(No symbol) [0x00007FF6D6CF09EF]\n\t(No symbol) [0x00007FF6D6CECB34]\n\t(No symbol) [0x00007FF6D6CECCD6]\n\t(No symbol) [0x00007FF6D6CDC119]\n\tBaseThreadInitThunk [0x00007FFFA669E8D7+23]\n\tRtlUserThreadStart [0x00007FFFA757BF2C+44]\n"
     ]
    }
   ],
   "source": [
    "import time\n",
    "\n",
    "URL='https://zum.com'\n",
    "driver.get(url=URL)\n",
    "driver.implicitly_wait(time_to_wait=10) \n",
    "\n",
    "#driver.find_element_by_css_selector('#app > div > header > div.search_bar > div > fieldset > div > input[type=text]').send_keys(\"아무거나 검색\")\n",
    "driver.find_element(By.CSS_SELECTOR,'#app > div > header > div.search_bar > div > fieldset > div > input[type=text]').send_keys(\"아무거나 검색\")\n",
    "time.sleep(0.5)\n",
    "#driver.find_element_by_css_selector('#app > div > header > div.search_bar > div > fieldset > div > button.search').click()\n",
    "driver.find_element(By.CSS_SELECTOR,'#app > div > header > div.search_bar > div > fieldset > div > button.search').click()\n",
    "time.sleep(1)\n",
    "\n",
    "#zoom_results = driver.find_elements_by_css_selector('#issue_wrap > ul > li > div > a:nth-child(1) > span.txt')\n",
    "zoom_results = driver.find_elements(By.CSS_SELECTOR,'#issue_wrap > ul > li > div > a:nth-child(1) > span.txt')\n",
    "\n",
    "zoom_list = []\n",
    "for zoom_result in zoom_results:\n",
    "    print(zoom_result.text)\n",
    "    zoom_list.append(zoom_result.text)"
   ]
  },
  {
   "cell_type": "code",
   "execution_count": 17,
   "metadata": {},
   "outputs": [
    {
     "name": "stdout",
     "output_type": "stream",
     "text": [
      "네이버 ['이창용 한국은행 총재', '유퀴즈', '외교 장관공관 관저', '우크라이나', '오후 8만 7796명', '송중기', '민형배', '나는 솔로', '이소은', '양향자']\n",
      "네이트 ['이창용 한국은행 총재', '외교 장관공관 관저', '오후 8만 7796명', '나는 솔로', '유퀴즈 윤석열 안 나올 그랬나', '양향자 민주당 경악', '우크라에 협상안 전달', '', '', '']\n",
      "줌 ['우크라이나', '안철수', '송중기', '민형배', '양향자', '유퀴즈', '한동훈', '현대사료', '이은해', '쌍방울']\n"
     ]
    }
   ],
   "source": [
    "print(\"네이버\",naver_list)\n",
    "print(\"네이트\",nate_list)\n",
    "print(\"줌\",zoom_list)"
   ]
  }
 ],
 "metadata": {
  "kernelspec": {
   "display_name": "Python 3",
   "language": "python",
   "name": "python3"
  },
  "language_info": {
   "codemirror_mode": {
    "name": "ipython",
    "version": 3
   },
   "file_extension": ".py",
   "mimetype": "text/x-python",
   "name": "python",
   "nbconvert_exporter": "python",
   "pygments_lexer": "ipython3",
   "version": "3.12.9"
  },
  "orig_nbformat": 4
 },
 "nbformat": 4,
 "nbformat_minor": 2
}
