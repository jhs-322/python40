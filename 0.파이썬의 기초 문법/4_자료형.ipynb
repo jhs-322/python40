{
 "cells": [
  {
   "cell_type": "code",
   "execution_count": 21,
   "metadata": {},
   "outputs": [
    {
     "name": "stdout",
     "output_type": "stream",
     "text": [
      "[1, 2, 3, 4, 5, 'kr', 'rk']\n",
      "1\n",
      "2\n",
      "5\n"
     ]
    }
   ],
   "source": [
    "a_list = [1,2,3,4,5,'kr',\"rk\"]\n",
    "print(a_list)\n",
    "print(a_list[0])\n",
    "print(a_list[1])\n",
    "print(a_list[4])"
   ]
  },
  {
   "cell_type": "markdown",
   "metadata": {},
   "source": []
  },
  {
   "cell_type": "code",
   "execution_count": 3,
   "metadata": {},
   "outputs": [
    {
     "name": "stdout",
     "output_type": "stream",
     "text": [
      "[1, 2]\n",
      "[3, 4, 5]\n"
     ]
    }
   ],
   "source": [
    "print(a_list[:2]) # 2번째 전까지\n",
    "print(a_list[2:]) # 2번째 부터~"
   ]
  },
  {
   "cell_type": "code",
   "execution_count": 23,
   "metadata": {},
   "outputs": [
    {
     "name": "stdout",
     "output_type": "stream",
     "text": [
      "[1, 2, 'rk', [9.0]]\n"
     ]
    }
   ],
   "source": [
    "b_list = []\n",
    "b_list.append(1)\n",
    "b_list.append(2)\n",
    "b_list.append(\"rk\")\n",
    "b_list.append([9.0])\n",
    "print(b_list)"
   ]
  },
  {
   "cell_type": "code",
   "execution_count": null,
   "metadata": {},
   "outputs": [
    {
     "name": "stdout",
     "output_type": "stream",
     "text": [
      "[1, 3.14, 'hello', [1, 2, 3]]\n",
      "[3.14, 'hello']\n"
     ]
    }
   ],
   "source": [
    "c_list = [1,3.14,\"hello\",[1,2,3]]\n",
    "print(c_list)\n",
    "print(c_list[1:3])"
   ]
  },
  {
   "cell_type": "code",
   "execution_count": null,
   "metadata": {},
   "outputs": [
    {
     "name": "stdout",
     "output_type": "stream",
     "text": [
      "[1, 3.13, 'hello', [1, 2, 3]]\n",
      "[3.13, 'hello']\n"
     ]
    }
   ],
   "source": [
    "c_list = [1, 3.13, \"hello\", [1,2,3]]\n",
    "print(c_list)\n",
    "print(c_list[1:3]) # 3.13, \"hello\" 작은 따옴표로 출력된다"
   ]
  },
  {
   "cell_type": "code",
   "execution_count": null,
   "metadata": {},
   "outputs": [
    {
     "name": "stdout",
     "output_type": "stream",
     "text": [
      "[1, 2, 3, 4, 5]\n",
      "[5, 2, 3, 4, 5]\n"
     ]
    }
   ],
   "source": [
    "d_list = [1,2,3,4,5]\n",
    "print(d_list)\n",
    "\n",
    "d_list[0] = 5\n",
    "print(d_list)"
   ]
  },
  {
   "cell_type": "code",
   "execution_count": 25,
   "metadata": {},
   "outputs": [
    {
     "name": "stdout",
     "output_type": "stream",
     "text": [
      "(1, 2, 3, 4, 5, '가', '나')\n"
     ]
    }
   ],
   "source": [
    "a_tuple = (1,2,3,4,5,'가',\"나\") \n",
    "print(a_tuple)"
   ]
  },
  {
   "cell_type": "code",
   "execution_count": 26,
   "metadata": {},
   "outputs": [
    {
     "name": "stdout",
     "output_type": "stream",
     "text": [
      "('a', 'b', 'b', 4, [1, 2])\n",
      "(1,)\n"
     ]
    }
   ],
   "source": [
    "a=('a','b','b',4, [1,2]) #중복값도 가능능\n",
    "print(a)\n",
    "b=1, #값이 1개인 튜플은 , 붙일것\n",
    "print(b)"
   ]
  },
  {
   "cell_type": "code",
   "execution_count": null,
   "metadata": {},
   "outputs": [
    {
     "ename": "TypeError",
     "evalue": "'tuple' object does not support item assignment",
     "output_type": "error",
     "traceback": [
      "\u001b[1;31m---------------------------------------------------------------------------\u001b[0m",
      "\u001b[1;31mTypeError\u001b[0m                                 Traceback (most recent call last)",
      "Cell \u001b[1;32mIn[3], line 1\u001b[0m\n\u001b[1;32m----> 1\u001b[0m \u001b[43ma_tuple\u001b[49m\u001b[43m[\u001b[49m\u001b[38;5;241;43m0\u001b[39;49m\u001b[43m]\u001b[49m \u001b[38;5;241m=\u001b[39m \u001b[38;5;241m5\u001b[39m\n",
      "\u001b[1;31mTypeError\u001b[0m: 'tuple' object does not support item assignment"
     ]
    }
   ],
   "source": [
    "a_tuple[0] = 5 #요소를 바꿀 수 x"
   ]
  },
  {
   "cell_type": "code",
   "execution_count": null,
   "metadata": {},
   "outputs": [
    {
     "name": "stdout",
     "output_type": "stream",
     "text": [
      "a\n",
      "9\n",
      "('a', 'b', 'c', 10)\n"
     ]
    }
   ],
   "source": [
    "t1 = ('a', 'b','c',10,9,8)\n",
    "print(t1[0])\n",
    "print(t1[-2])\n",
    "print(t1[0:-2]) #-2위치의 '전'까지"
   ]
  },
  {
   "cell_type": "code",
   "execution_count": 13,
   "metadata": {},
   "outputs": [
    {
     "name": "stdout",
     "output_type": "stream",
     "text": [
      "(1, 2, 1, 2)\n",
      "('a', 'b', 'c', 'a', 'b', 'c', 'a', 'b', 'c', 'a', 'b', 'c')\n"
     ]
    }
   ],
   "source": [
    "#튜플의 덧셈(생략) 곱셈.\n",
    "t1 =(1,2)\n",
    "print(t1*2)\n",
    "\n",
    "t2 =('a','b','c')\n",
    "print(t2*4)"
   ]
  },
  {
   "cell_type": "code",
   "execution_count": 19,
   "metadata": {},
   "outputs": [
    {
     "name": "stdout",
     "output_type": "stream",
     "text": [
      "1 exist\n",
      "2\n",
      "5\n",
      "(1, 2, 3, (1, 4))\n",
      "4\n"
     ]
    }
   ],
   "source": [
    "#내부 요소 검색\n",
    "t1=(1,2,3,4,1)\n",
    "if(1 in t1):\n",
    "    print(\"1 exist\")\n",
    "print(t1.count(1)) #1의 개수\n",
    "print(len(t1)) #t1의 길이이\n",
    "\n",
    "t2 =1,2,3,(1,4) #괄호 생략 가능\n",
    "print(t2)\n",
    "print(t2[3][1])\n",
    "#괄호 생략은 return 1,b,c <-이런식으로도 응용이 가능하다 (1,b,c)이렇게 출력된다다"
   ]
  },
  {
   "cell_type": "markdown",
   "metadata": {},
   "source": [
    "튜플은 머신러닝, 모델의 입출력에 사용\n",
    "a = (,) <-이렇게 생성\n",
    "혹은 a =(1,) <-1개만 넣을 때에는\n",
    "set과 달리 중복값이 가능, 값의 변경,삭제가 불가능\n",
    "튜플 자체는 del a로 삭제 가능"
   ]
  },
  {
   "cell_type": "code",
   "execution_count": null,
   "metadata": {},
   "outputs": [
    {
     "name": "stdout",
     "output_type": "stream",
     "text": [
      "{'a': 1, 'b': 2, 'c': '3'}\n",
      "1\n",
      "2\n",
      "3\n"
     ]
    }
   ],
   "source": [
    "a_dic = {\"a\":1, 'b':2, 'c':'3'}\n",
    "print(a_dic)\n",
    "print(a_dic[\"a\"])\n",
    "print(a_dic['b'])\n",
    "print(a_dic['c'])"
   ]
  },
  {
   "cell_type": "code",
   "execution_count": 20,
   "metadata": {},
   "outputs": [
    {
     "name": "stdout",
     "output_type": "stream",
     "text": [
      "a\n",
      "[1, 2, 3]\n",
      "3\n"
     ]
    }
   ],
   "source": [
    "b_dic = { 1 :'a', 'b' : [1,2,3], 'c' : 3}\n",
    "print(b_dic[1])\n",
    "print(b_dic['b'])\n",
    "print(b_dic['c'])"
   ]
  },
  {
   "cell_type": "code",
   "execution_count": null,
   "metadata": {},
   "outputs": [
    {
     "name": "stdout",
     "output_type": "stream",
     "text": [
      "{1: 'a', 'b': [1, 2, 3], 'c': 3, 'd': 4}\n"
     ]
    }
   ],
   "source": [
    "b_dic['d'] = 4\n",
    "print(b_dic)"
   ]
  },
  {
   "cell_type": "code",
   "execution_count": null,
   "metadata": {},
   "outputs": [
    {
     "name": "stdout",
     "output_type": "stream",
     "text": [
      "{1, 2, 3, 4}\n"
     ]
    }
   ],
   "source": [
    "a_set = set([1,2,3,4])\n",
    "print(a_set)"
   ]
  },
  {
   "cell_type": "code",
   "execution_count": 3,
   "metadata": {},
   "outputs": [
    {
     "name": "stdout",
     "output_type": "stream",
     "text": [
      "{1, 2}\n"
     ]
    }
   ],
   "source": [
    "set = set([1,1,2,2])\n",
    "print(set)"
   ]
  },
  {
   "cell_type": "code",
   "execution_count": null,
   "metadata": {},
   "outputs": [
    {
     "name": "stdout",
     "output_type": "stream",
     "text": [
      "{1, 2, 3, 4, 5, 6}\n"
     ]
    }
   ],
   "source": [
    "b_set = set([1,1,2,2,3,3,4,5,6])\n",
    "print(b_set)"
   ]
  },
  {
   "cell_type": "code",
   "execution_count": null,
   "metadata": {},
   "outputs": [
    {
     "name": "stdout",
     "output_type": "stream",
     "text": [
      "{'y', 'p', 'o', 't', 's', '4', 'h', '0', 'n'}\n"
     ]
    }
   ],
   "source": [
    "c_set = set(\"python40s\")\n",
    "print(c_set)"
   ]
  }
 ],
 "metadata": {
  "kernelspec": {
   "display_name": "Python 3",
   "language": "python",
   "name": "python3"
  },
  "language_info": {
   "codemirror_mode": {
    "name": "ipython",
    "version": 3
   },
   "file_extension": ".py",
   "mimetype": "text/x-python",
   "name": "python",
   "nbconvert_exporter": "python",
   "pygments_lexer": "ipython3",
   "version": "3.12.9"
  },
  "orig_nbformat": 4
 },
 "nbformat": 4,
 "nbformat_minor": 2
}
