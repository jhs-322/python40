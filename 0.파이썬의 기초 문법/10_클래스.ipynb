{
 "cells": [
  {
   "cell_type": "code",
   "execution_count": 4,
   "metadata": {},
   "outputs": [
    {
     "name": "stdout",
     "output_type": "stream",
     "text": [
      "hello\n",
      "hi\n",
      "hello\n",
      "hi\n"
     ]
    }
   ],
   "source": [
    "class Greet():\n",
    "    def hello(self):\n",
    "        print(\"hello\")\n",
    "    \n",
    "    def hi(self):\n",
    "        print(\"hi\")\n",
    "\n",
    "human1 = Greet()\n",
    "human2 = Greet()\n",
    "\n",
    "human1.hello()\n",
    "human1.hi()\n",
    "\n",
    "human2.hello()\n",
    "human2.hi()"
   ]
  },
  {
   "cell_type": "code",
   "execution_count": 4,
   "metadata": {},
   "outputs": [
    {
     "name": "stdout",
     "output_type": "stream",
     "text": [
      "엄마는\n",
      "빨간 머리이다.\n",
      "검정 신발을 신고 있다.\n",
      "화가 났습니다.\n",
      "공부하라고 합니다.\n",
      "집에 오십니다.\n",
      "딸은\n",
      "노란 머리이다.\n"
     ]
    }
   ],
   "source": [
    "class Mother(): #객체\n",
    "    def characteristic(self):\n",
    "        print(\"빨간 머리이다.\")\n",
    "        print(\"검정 신발을 신고 있다.\")\n",
    "    def angry(self):\n",
    "        print(\"화가 났습니다.\")\n",
    "    def study(self):\n",
    "        print(\"공부하라고 합니다.\")\n",
    "    def home(self):\n",
    "        print(\"집에 오십니다.\")\n",
    "\n",
    "class Daughter():\n",
    "    def characteristic(self):\n",
    "        print(\"노란 머리이다.\")\n",
    "\n",
    "mom = Mother()\n",
    "d = Daughter()\n",
    "        \n",
    "print(\"엄마는\")\n",
    "mom.characteristic()\n",
    "mom.angry()\n",
    "mom.study()\n",
    "mom.home()\n",
    "print(\"딸은\")\n",
    "d.characteristic()"
   ]
  },
  {
   "cell_type": "code",
   "execution_count": 8,
   "metadata": {},
   "outputs": [
    {
     "name": "stdout",
     "output_type": "stream",
     "text": [
      "Content-Type: text/plain; charset=\"utf-8\"\n",
      "MIME-Version: 1.0\n",
      "Content-Transfer-Encoding: base64\n",
      "Subject: =?utf-8?b?66mU7J287KCc66qp7J2AIOyXrOq4sOyXkCDrhKPsirXri4jri6Q=?=\n",
      "From: jhsunny05@naver.com\n",
      "To: jhsunny05@naver.com\n",
      "\n",
      "CiAgICAgICAg66mU7J28IOuCtOyaqeydhCDsl6zquLDsl5Ag7KCB7Iq164uI64ukLg==\n",
      "\n"
     ]
    },
    {
     "ename": "SMTPAuthenticationError",
     "evalue": "(535, b'5.7.1 Username and Password not accepted dVr+otRLRA+lutulYHFJyg - nsmtp')",
     "output_type": "error",
     "traceback": [
      "\u001b[1;31m---------------------------------------------------------------------------\u001b[0m",
      "\u001b[1;31mSMTPAuthenticationError\u001b[0m                   Traceback (most recent call last)",
      "Cell \u001b[1;32mIn[8], line 27\u001b[0m\n\u001b[0;32m     24\u001b[0m         s\u001b[38;5;241m.\u001b[39mquit()\n\u001b[0;32m     26\u001b[0m s \u001b[38;5;241m=\u001b[39m SMTPMail()\n\u001b[1;32m---> 27\u001b[0m \u001b[43ms\u001b[49m\u001b[38;5;241;43m.\u001b[39;49m\u001b[43msendmail\u001b[49m\u001b[43m(\u001b[49m\u001b[43m)\u001b[49m     \n",
      "Cell \u001b[1;32mIn[8], line 22\u001b[0m, in \u001b[0;36mSMTPMail.sendmail\u001b[1;34m(self)\u001b[0m\n\u001b[0;32m     20\u001b[0m s\u001b[38;5;241m=\u001b[39msmtplib\u001b[38;5;241m.\u001b[39mSMTP( \u001b[38;5;28mself\u001b[39m\u001b[38;5;241m.\u001b[39msmtp_name , \u001b[38;5;28mself\u001b[39m\u001b[38;5;241m.\u001b[39msmtp_port )\n\u001b[0;32m     21\u001b[0m s\u001b[38;5;241m.\u001b[39mstarttls()\n\u001b[1;32m---> 22\u001b[0m \u001b[43ms\u001b[49m\u001b[38;5;241;43m.\u001b[39;49m\u001b[43mlogin\u001b[49m\u001b[43m(\u001b[49m\u001b[43m \u001b[49m\u001b[38;5;28;43mself\u001b[39;49m\u001b[38;5;241;43m.\u001b[39;49m\u001b[43msend_email\u001b[49m\u001b[43m \u001b[49m\u001b[43m,\u001b[49m\u001b[43m \u001b[49m\u001b[38;5;28;43mself\u001b[39;49m\u001b[38;5;241;43m.\u001b[39;49m\u001b[43msend_pwd\u001b[49m\u001b[43m \u001b[49m\u001b[43m)\u001b[49m\n\u001b[0;32m     23\u001b[0m s\u001b[38;5;241m.\u001b[39msendmail( \u001b[38;5;28mself\u001b[39m\u001b[38;5;241m.\u001b[39msend_email, \u001b[38;5;28mself\u001b[39m\u001b[38;5;241m.\u001b[39mrecv_email, msg\u001b[38;5;241m.\u001b[39mas_string() )\n\u001b[0;32m     24\u001b[0m s\u001b[38;5;241m.\u001b[39mquit()\n",
      "File \u001b[1;32mc:\\Users\\USER\\AppData\\Local\\Programs\\Python\\Python312\\Lib\\smtplib.py:750\u001b[0m, in \u001b[0;36mSMTP.login\u001b[1;34m(self, user, password, initial_response_ok)\u001b[0m\n\u001b[0;32m    747\u001b[0m         last_exception \u001b[38;5;241m=\u001b[39m e\n\u001b[0;32m    749\u001b[0m \u001b[38;5;66;03m# We could not login successfully.  Return result of last attempt.\u001b[39;00m\n\u001b[1;32m--> 750\u001b[0m \u001b[38;5;28;01mraise\u001b[39;00m last_exception\n",
      "File \u001b[1;32mc:\\Users\\USER\\AppData\\Local\\Programs\\Python\\Python312\\Lib\\smtplib.py:739\u001b[0m, in \u001b[0;36mSMTP.login\u001b[1;34m(self, user, password, initial_response_ok)\u001b[0m\n\u001b[0;32m    737\u001b[0m method_name \u001b[38;5;241m=\u001b[39m \u001b[38;5;124m'\u001b[39m\u001b[38;5;124mauth_\u001b[39m\u001b[38;5;124m'\u001b[39m \u001b[38;5;241m+\u001b[39m authmethod\u001b[38;5;241m.\u001b[39mlower()\u001b[38;5;241m.\u001b[39mreplace(\u001b[38;5;124m'\u001b[39m\u001b[38;5;124m-\u001b[39m\u001b[38;5;124m'\u001b[39m, \u001b[38;5;124m'\u001b[39m\u001b[38;5;124m_\u001b[39m\u001b[38;5;124m'\u001b[39m)\n\u001b[0;32m    738\u001b[0m \u001b[38;5;28;01mtry\u001b[39;00m:\n\u001b[1;32m--> 739\u001b[0m     (code, resp) \u001b[38;5;241m=\u001b[39m \u001b[38;5;28;43mself\u001b[39;49m\u001b[38;5;241;43m.\u001b[39;49m\u001b[43mauth\u001b[49m\u001b[43m(\u001b[49m\n\u001b[0;32m    740\u001b[0m \u001b[43m        \u001b[49m\u001b[43mauthmethod\u001b[49m\u001b[43m,\u001b[49m\u001b[43m \u001b[49m\u001b[38;5;28;43mgetattr\u001b[39;49m\u001b[43m(\u001b[49m\u001b[38;5;28;43mself\u001b[39;49m\u001b[43m,\u001b[49m\u001b[43m \u001b[49m\u001b[43mmethod_name\u001b[49m\u001b[43m)\u001b[49m\u001b[43m,\u001b[49m\n\u001b[0;32m    741\u001b[0m \u001b[43m        \u001b[49m\u001b[43minitial_response_ok\u001b[49m\u001b[38;5;241;43m=\u001b[39;49m\u001b[43minitial_response_ok\u001b[49m\u001b[43m)\u001b[49m\n\u001b[0;32m    742\u001b[0m     \u001b[38;5;66;03m# 235 == 'Authentication successful'\u001b[39;00m\n\u001b[0;32m    743\u001b[0m     \u001b[38;5;66;03m# 503 == 'Error: already authenticated'\u001b[39;00m\n\u001b[0;32m    744\u001b[0m     \u001b[38;5;28;01mif\u001b[39;00m code \u001b[38;5;129;01min\u001b[39;00m (\u001b[38;5;241m235\u001b[39m, \u001b[38;5;241m503\u001b[39m):\n",
      "File \u001b[1;32mc:\\Users\\USER\\AppData\\Local\\Programs\\Python\\Python312\\Lib\\smtplib.py:662\u001b[0m, in \u001b[0;36mSMTP.auth\u001b[1;34m(self, mechanism, authobject, initial_response_ok)\u001b[0m\n\u001b[0;32m    660\u001b[0m \u001b[38;5;28;01mif\u001b[39;00m code \u001b[38;5;129;01min\u001b[39;00m (\u001b[38;5;241m235\u001b[39m, \u001b[38;5;241m503\u001b[39m):\n\u001b[0;32m    661\u001b[0m     \u001b[38;5;28;01mreturn\u001b[39;00m (code, resp)\n\u001b[1;32m--> 662\u001b[0m \u001b[38;5;28;01mraise\u001b[39;00m SMTPAuthenticationError(code, resp)\n",
      "\u001b[1;31mSMTPAuthenticationError\u001b[0m: (535, b'5.7.1 Username and Password not accepted dVr+otRLRA+lutulYHFJyg - nsmtp')"
     ]
    }
   ],
   "source": [
    "import smtplib\n",
    "from email.mime.text import MIMEText\n",
    "class SMTPMail():\n",
    "    def __init__(self): #초기화 함수\n",
    "        self.send_email = \"jhsunny05@naver.com\"\n",
    "        self.send_pwd = \"\"\n",
    "        self.recv_email = \"jhsunny05@naver.com\"\n",
    "\n",
    "        self.smtp_name = \"smtp.naver.com\"\n",
    "        self.smtp_port = 587\n",
    "\n",
    "    def sendmail(self):\n",
    "        text = \"\"\"\n",
    "        메일 내용을 여기에 적습니다.\"\"\"\n",
    "        msg = MIMEText(text)\n",
    "        msg['Subject'] =\"메일제목은 여기에 넣습니다\"\n",
    "        msg['From'] = self.send_email\n",
    "        msg['To'] = self.recv_email\n",
    "        print(msg.as_string())\n",
    "        s=smtplib.SMTP( self.smtp_name , self.smtp_port )\n",
    "        s.starttls()\n",
    "        s.login( self.send_email , self.send_pwd )\n",
    "        s.sendmail( self.send_email, self.recv_email, msg.as_string() )\n",
    "        s.quit()\n",
    "\n",
    "s = SMTPMail()\n",
    "s.sendmail()     "
   ]
  },
  {
   "cell_type": "code",
   "execution_count": null,
   "metadata": {},
   "outputs": [],
   "source": []
  },
  {
   "cell_type": "code",
   "execution_count": 8,
   "metadata": {},
   "outputs": [
    {
     "name": "stdout",
     "output_type": "stream",
     "text": [
      "이름:김철수, 나이:17, 좋아하는것:축구\n",
      "이름:장다인, 나이:5, 좋아하는것:헬로카봇\n"
     ]
    }
   ],
   "source": [
    "class Student():\n",
    "    def __init__(self,name,age,like):\n",
    "        self.name = name\n",
    "        self.age = age\n",
    "        self.like = like\n",
    "\n",
    "    def studentInfo(self):\n",
    "        print(f\"이름:{self.name}, 나이:{self.age}, 좋아하는것:{self.like}\")\n",
    "\n",
    "\n",
    "김철수 = Student(\"김철수\",17,\"축구\")\n",
    "장다인 = Student(\"장다인\",5,\"헬로카봇\")\n",
    "\n",
    "김철수.studentInfo()\n",
    "장다인.studentInfo()"
   ]
  },
  {
   "cell_type": "code",
   "execution_count": 12,
   "metadata": {},
   "outputs": [
    {
     "name": "stdout",
     "output_type": "stream",
     "text": [
      "엄마는\n",
      "키가 크다.\n",
      "공부를 잘한다.\n",
      "딸은\n",
      "키가 크다.\n",
      "공부를 잘한다.\n",
      "운동을 잘한다.\n"
     ]
    }
   ],
   "source": [
    "class Mother():\n",
    "    def characteristic(self):\n",
    "        print(\"키가 크다.\")\n",
    "        print(\"공부를 잘한다.\")\n",
    "\n",
    "class Daughter(Mother):\n",
    "    def characteristic(self):\n",
    "        super().characteristic()\n",
    "        print(\"운동을 잘한다.\")\n",
    "\n",
    "엄마 = Mother()\n",
    "딸 = Daughter()\n",
    "\n",
    "print(\"엄마는\")\n",
    "엄마.characteristic()\n",
    "print(\"딸은\")\n",
    "딸.characteristic()\n"
   ]
  },
  {
   "cell_type": "code",
   "execution_count": 13,
   "metadata": {},
   "outputs": [
    {
     "name": "stdout",
     "output_type": "stream",
     "text": [
      "엄마는\n",
      "키가 크다.\n",
      "공부를 잘한다.\n",
      "딸은\n",
      "키가 크다.\n",
      "공부를 잘한다.\n",
      "운동을 잘한다.\n"
     ]
    }
   ],
   "source": [
    "class Mother():\n",
    "    def __init__(self):\n",
    "        print(\"키가 크다.\")\n",
    "        print(\"공부를 잘한다.\")\n",
    "\n",
    "class Daughter(Mother):\n",
    "    def __init__(self):\n",
    "        super().__init__()\n",
    "        print(\"운동을 잘한다.\")\n",
    "\n",
    "print(\"엄마는\")\n",
    "엄마 = Mother()\n",
    "print(\"딸은\")\n",
    "딸 = Daughter()\n"
   ]
  }
 ],
 "metadata": {
  "kernelspec": {
   "display_name": "Python 3",
   "language": "python",
   "name": "python3"
  },
  "language_info": {
   "codemirror_mode": {
    "name": "ipython",
    "version": 3
   },
   "file_extension": ".py",
   "mimetype": "text/x-python",
   "name": "python",
   "nbconvert_exporter": "python",
   "pygments_lexer": "ipython3",
   "version": "3.12.9"
  },
  "orig_nbformat": 4
 },
 "nbformat": 4,
 "nbformat_minor": 2
}
